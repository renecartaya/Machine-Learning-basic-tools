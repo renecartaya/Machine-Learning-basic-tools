{
 "cells": [
  {
   "cell_type": "code",
   "execution_count": 1,
   "id": "9e2f1a84-0c38-43d8-a459-1bfed536d685",
   "metadata": {},
   "outputs": [],
   "source": [
    "############################################################################################################\n",
    "#\n",
    "#                            Linear Regression\n",
    "#\n",
    "############################################################################################################"
   ]
  },
  {
   "cell_type": "code",
   "execution_count": 2,
   "id": "bdf12838-feb3-4568-bb47-718d2be7e77b",
   "metadata": {},
   "outputs": [],
   "source": [
    "import numpy as np\n",
    "import pandas as pd\n",
    "import matplotlib.pyplot as plt\n",
    "import seaborn as sns"
   ]
  },
  {
   "cell_type": "code",
   "execution_count": 3,
   "id": "93617a69-dd29-47f4-b6e8-1b7fc9801c47",
   "metadata": {},
   "outputs": [],
   "source": [
    "df = pd.read_csv(\"Advertising.csv\")"
   ]
  },
  {
   "cell_type": "code",
   "execution_count": 4,
   "id": "3efa2116-d2e8-4c5e-b51c-fa9862fa40da",
   "metadata": {},
   "outputs": [
    {
     "data": {
      "text/html": [
       "<div>\n",
       "<style scoped>\n",
       "    .dataframe tbody tr th:only-of-type {\n",
       "        vertical-align: middle;\n",
       "    }\n",
       "\n",
       "    .dataframe tbody tr th {\n",
       "        vertical-align: top;\n",
       "    }\n",
       "\n",
       "    .dataframe thead th {\n",
       "        text-align: right;\n",
       "    }\n",
       "</style>\n",
       "<table border=\"1\" class=\"dataframe\">\n",
       "  <thead>\n",
       "    <tr style=\"text-align: right;\">\n",
       "      <th></th>\n",
       "      <th>TV</th>\n",
       "      <th>radio</th>\n",
       "      <th>newspaper</th>\n",
       "      <th>sales</th>\n",
       "    </tr>\n",
       "  </thead>\n",
       "  <tbody>\n",
       "    <tr>\n",
       "      <th>0</th>\n",
       "      <td>230.1</td>\n",
       "      <td>37.8</td>\n",
       "      <td>69.2</td>\n",
       "      <td>22.1</td>\n",
       "    </tr>\n",
       "    <tr>\n",
       "      <th>1</th>\n",
       "      <td>44.5</td>\n",
       "      <td>39.3</td>\n",
       "      <td>45.1</td>\n",
       "      <td>10.4</td>\n",
       "    </tr>\n",
       "    <tr>\n",
       "      <th>2</th>\n",
       "      <td>17.2</td>\n",
       "      <td>45.9</td>\n",
       "      <td>69.3</td>\n",
       "      <td>9.3</td>\n",
       "    </tr>\n",
       "    <tr>\n",
       "      <th>3</th>\n",
       "      <td>151.5</td>\n",
       "      <td>41.3</td>\n",
       "      <td>58.5</td>\n",
       "      <td>18.5</td>\n",
       "    </tr>\n",
       "    <tr>\n",
       "      <th>4</th>\n",
       "      <td>180.8</td>\n",
       "      <td>10.8</td>\n",
       "      <td>58.4</td>\n",
       "      <td>12.9</td>\n",
       "    </tr>\n",
       "  </tbody>\n",
       "</table>\n",
       "</div>"
      ],
      "text/plain": [
       "      TV  radio  newspaper  sales\n",
       "0  230.1   37.8       69.2   22.1\n",
       "1   44.5   39.3       45.1   10.4\n",
       "2   17.2   45.9       69.3    9.3\n",
       "3  151.5   41.3       58.5   18.5\n",
       "4  180.8   10.8       58.4   12.9"
      ]
     },
     "execution_count": 4,
     "metadata": {},
     "output_type": "execute_result"
    }
   ],
   "source": [
    "df.head()"
   ]
  },
  {
   "cell_type": "code",
   "execution_count": 5,
   "id": "5aee0f95-7770-459e-a4d9-6cbd10242f85",
   "metadata": {},
   "outputs": [],
   "source": [
    "df['total_spend']=df['TV']+df['radio']+df['newspaper']+df['sales']"
   ]
  },
  {
   "cell_type": "code",
   "execution_count": 6,
   "id": "64616d4a-5355-4dde-aef5-8baeae5df684",
   "metadata": {},
   "outputs": [
    {
     "data": {
      "text/html": [
       "<div>\n",
       "<style scoped>\n",
       "    .dataframe tbody tr th:only-of-type {\n",
       "        vertical-align: middle;\n",
       "    }\n",
       "\n",
       "    .dataframe tbody tr th {\n",
       "        vertical-align: top;\n",
       "    }\n",
       "\n",
       "    .dataframe thead th {\n",
       "        text-align: right;\n",
       "    }\n",
       "</style>\n",
       "<table border=\"1\" class=\"dataframe\">\n",
       "  <thead>\n",
       "    <tr style=\"text-align: right;\">\n",
       "      <th></th>\n",
       "      <th>TV</th>\n",
       "      <th>radio</th>\n",
       "      <th>newspaper</th>\n",
       "      <th>sales</th>\n",
       "      <th>total_spend</th>\n",
       "    </tr>\n",
       "  </thead>\n",
       "  <tbody>\n",
       "    <tr>\n",
       "      <th>0</th>\n",
       "      <td>230.1</td>\n",
       "      <td>37.8</td>\n",
       "      <td>69.2</td>\n",
       "      <td>22.1</td>\n",
       "      <td>359.2</td>\n",
       "    </tr>\n",
       "    <tr>\n",
       "      <th>1</th>\n",
       "      <td>44.5</td>\n",
       "      <td>39.3</td>\n",
       "      <td>45.1</td>\n",
       "      <td>10.4</td>\n",
       "      <td>139.3</td>\n",
       "    </tr>\n",
       "    <tr>\n",
       "      <th>2</th>\n",
       "      <td>17.2</td>\n",
       "      <td>45.9</td>\n",
       "      <td>69.3</td>\n",
       "      <td>9.3</td>\n",
       "      <td>141.7</td>\n",
       "    </tr>\n",
       "    <tr>\n",
       "      <th>3</th>\n",
       "      <td>151.5</td>\n",
       "      <td>41.3</td>\n",
       "      <td>58.5</td>\n",
       "      <td>18.5</td>\n",
       "      <td>269.8</td>\n",
       "    </tr>\n",
       "    <tr>\n",
       "      <th>4</th>\n",
       "      <td>180.8</td>\n",
       "      <td>10.8</td>\n",
       "      <td>58.4</td>\n",
       "      <td>12.9</td>\n",
       "      <td>262.9</td>\n",
       "    </tr>\n",
       "  </tbody>\n",
       "</table>\n",
       "</div>"
      ],
      "text/plain": [
       "      TV  radio  newspaper  sales  total_spend\n",
       "0  230.1   37.8       69.2   22.1        359.2\n",
       "1   44.5   39.3       45.1   10.4        139.3\n",
       "2   17.2   45.9       69.3    9.3        141.7\n",
       "3  151.5   41.3       58.5   18.5        269.8\n",
       "4  180.8   10.8       58.4   12.9        262.9"
      ]
     },
     "execution_count": 6,
     "metadata": {},
     "output_type": "execute_result"
    }
   ],
   "source": [
    "df.head()"
   ]
  },
  {
   "cell_type": "code",
   "execution_count": 7,
   "id": "b9baef55-2a19-4073-bbbf-e875f13f2128",
   "metadata": {},
   "outputs": [
    {
     "data": {
      "text/plain": [
       "<AxesSubplot:xlabel='total_spend', ylabel='sales'>"
      ]
     },
     "execution_count": 7,
     "metadata": {},
     "output_type": "execute_result"
    },
    {
     "data": {
      "image/png": "[encoded data removed]",
      "text/plain": [
       "<Figure size 432x288 with 1 Axes>"
      ]
     },
     "metadata": {
      "needs_background": "light"
     },
     "output_type": "display_data"
    }
   ],
   "source": [
    "sns.scatterplot(data=df, x='total_spend',y='sales')"
   ]
  },
  {
   "cell_type": "code",
   "execution_count": 8,
   "id": "feee2046-c903-44f9-a2ee-a58f60d2c075",
   "metadata": {},
   "outputs": [
    {
     "data": {
      "text/plain": [
       "<AxesSubplot:xlabel='total_spend', ylabel='sales'>"
      ]
     },
     "execution_count": 8,
     "metadata": {},
     "output_type": "execute_result"
    },
    {
     "data": {
      "image/png": "[encoded data removed]",
      "text/plain": [
       "<Figure size 432x288 with 1 Axes>"
      ]
     },
     "metadata": {
      "needs_background": "light"
     },
     "output_type": "display_data"
    }
   ],
   "source": [
    "sns.regplot(data=df, x='total_spend',y='sales')"
   ]
  },
  {
   "cell_type": "code",
   "execution_count": 9,
   "id": "d0d22ed2-952f-4a6d-9a6a-ecb7e2f34b9b",
   "metadata": {},
   "outputs": [],
   "source": [
    "x = df['total_spend']\n",
    "y = df['sales']"
   ]
  },
  {
   "cell_type": "code",
   "execution_count": 11,
   "id": "c8bd7538-98d2-4a1a-8202-6a475b417367",
   "metadata": {},
   "outputs": [],
   "source": [
    "# y = mx + b\n",
    "# y = B1x + B0\n",
    "# help(np.polyfit)"
   ]
  },
  {
   "cell_type": "code",
   "execution_count": 12,
   "id": "df145718-8672-4080-8d2b-f611d12bcdc0",
   "metadata": {},
   "outputs": [
    {
     "data": {
      "text/plain": [
       "array([0.04710145, 3.90119955])"
      ]
     },
     "execution_count": 12,
     "metadata": {},
     "output_type": "execute_result"
    }
   ],
   "source": [
    "np.polyfit(x,y,deg=1)"
   ]
  },
  {
   "cell_type": "code",
   "execution_count": 13,
   "id": "56262343-ea13-4b6f-a28a-dc229056b3d5",
   "metadata": {},
   "outputs": [],
   "source": [
    "potential_spend = np.linspace(0,500,100)"
   ]
  },
  {
   "cell_type": "code",
   "execution_count": 14,
   "id": "4bb48a02-529c-475c-9253-4dee32342d12",
   "metadata": {},
   "outputs": [],
   "source": [
    "predicted_sales = 0.04710145*potential_spend + 3.90119955"
   ]
  },
  {
   "cell_type": "code",
   "execution_count": 15,
   "id": "7abb68d7-b7c0-43e9-ac38-5805037b0a77",
   "metadata": {},
   "outputs": [
    {
     "data": {
      "text/plain": [
       "[<matplotlib.lines.Line2D at 0x2146bd4d640>]"
      ]
     },
     "execution_count": 15,
     "metadata": {},
     "output_type": "execute_result"
    },
    {
     "data": {
      "image/png": "[encoded data removed]",
      "text/plain": [
       "<Figure size 432x288 with 1 Axes>"
      ]
     },
     "metadata": {
      "needs_background": "light"
     },
     "output_type": "display_data"
    }
   ],
   "source": [
    "plt.plot(potential_spend, predicted_sales)"
   ]
  },
  {
   "cell_type": "code",
   "execution_count": 16,
   "id": "24d191ef-fec7-409f-842a-a386c29809e2",
   "metadata": {},
   "outputs": [
    {
     "data": {
      "text/plain": [
       "[<matplotlib.lines.Line2D at 0x2146bdbd460>]"
      ]
     },
     "execution_count": 16,
     "metadata": {},
     "output_type": "execute_result"
    },
    {
     "data": {
      "image/png": "[encoded data removed]",
      "text/plain": [
       "<Figure size 432x288 with 1 Axes>"
      ]
     },
     "metadata": {
      "needs_background": "light"
     },
     "output_type": "display_data"
    }
   ],
   "source": [
    "sns.scatterplot(x='total_spend', y = 'sales', data = df)\n",
    "plt.plot(potential_spend, predicted_sales, color = 'red')"
   ]
  },
  {
   "cell_type": "code",
   "execution_count": 19,
   "id": "aada56c2-9b10-460f-bd69-d86cdccc94b3",
   "metadata": {},
   "outputs": [],
   "source": [
    "spend = 200\n",
    "\n",
    "predicted_sales = 0.04710145*spend + 3.90119955"
   ]
  },
  {
   "cell_type": "code",
   "execution_count": 20,
   "id": "073f470e-c144-488e-88ac-580ee44415c7",
   "metadata": {},
   "outputs": [
    {
     "data": {
      "text/plain": [
       "13.32148955"
      ]
     },
     "execution_count": 20,
     "metadata": {},
     "output_type": "execute_result"
    }
   ],
   "source": [
    "predicted_sales"
   ]
  },
  {
   "cell_type": "code",
   "execution_count": 21,
   "id": "33dfe22f-4edc-42e8-8c7f-26c62545a1be",
   "metadata": {},
   "outputs": [
    {
     "data": {
      "text/plain": [
       "array([ 2.64617556e-07, -1.67427728e-04,  7.71590458e-02,  2.50495056e+00])"
      ]
     },
     "execution_count": 21,
     "metadata": {},
     "output_type": "execute_result"
    }
   ],
   "source": [
    "np.polyfit(x,y,3)"
   ]
  },
  {
   "cell_type": "code",
   "execution_count": 22,
   "id": "29d08479-3290-40a1-96ec-46551d1a8f60",
   "metadata": {},
   "outputs": [],
   "source": [
    "# y = B1x + B0\n",
    "\n",
    "# Y = B3x**3 + B2*x**2 + B1x + B0"
   ]
  },
  {
   "cell_type": "code",
   "execution_count": 23,
   "id": "7001ea4c-54bc-4fcd-a911-4a92bfb12cf8",
   "metadata": {},
   "outputs": [],
   "source": [
    "pot_spend = np.linspace(0,500,100)"
   ]
  },
  {
   "cell_type": "code",
   "execution_count": 24,
   "id": "59d0ed15-bbb6-4157-a2f4-6c10cb2cd87b",
   "metadata": {},
   "outputs": [],
   "source": [
    "pred_sales = 2.64617556e-07*pot_spend**3 + -1.67427728e-04*pot_spend**2 + 7.71590458e-02*pot_spend + 2.50495056e+00"
   ]
  },
  {
   "cell_type": "code",
   "execution_count": null,
   "id": "9339313b-7045-4c3d-8b01-78237274f8db",
   "metadata": {},
   "outputs": [],
   "source": []
  }
 ],
 "metadata": {
  "kernelspec": {
   "display_name": "Python 3 (ipykernel)",
   "language": "python",
   "name": "python3"
  },
  "language_info": {
   "codemirror_mode": {
    "name": "ipython",
    "version": 3
   },
   "file_extension": ".py",
   "mimetype": "text/x-python",
   "name": "python",
   "nbconvert_exporter": "python",
   "pygments_lexer": "ipython3",
   "version": "3.9.7"
  }
 },
 "nbformat": 4,
 "nbformat_minor": 5
}
