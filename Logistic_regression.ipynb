{
 "cells": [
  {
   "cell_type": "code",
   "execution_count": 1,
   "id": "ef5ff0b5-9803-4277-8284-b81de5c6ab66",
   "metadata": {},
   "outputs": [],
   "source": [
    "import numpy as np\n",
    "import pandas as pd\n",
    "import seaborn as sns\n",
    "import matplotlib.pyplot as plt"
   ]
  },
  {
   "cell_type": "code",
   "execution_count": 2,
   "id": "ceb9277f-8667-4f61-9e21-98f10b491fdc",
   "metadata": {},
   "outputs": [],
   "source": [
    "df = pd.read_csv('hearing_test.csv')"
   ]
  },
  {
   "cell_type": "code",
   "execution_count": null,
   "id": "01fe93ee-4aa9-48e5-bf20-5b4ab7ee0e97",
   "metadata": {},
   "outputs": [],
   "source": []
  }
 ],
 "metadata": {
  "kernelspec": {
   "display_name": "Python 3 (ipykernel)",
   "language": "python",
   "name": "python3"
  },
  "language_info": {
   "codemirror_mode": {
    "name": "ipython",
    "version": 3
   },
   "file_extension": ".py",
   "mimetype": "text/x-python",
   "name": "python",
   "nbconvert_exporter": "python",
   "pygments_lexer": "ipython3",
   "version": "3.9.7"
  }
 },
 "nbformat": 4,
 "nbformat_minor": 5
}
